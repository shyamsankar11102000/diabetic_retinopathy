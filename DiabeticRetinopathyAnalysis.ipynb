{
  "nbformat": 4,
  "nbformat_minor": 0,
  "metadata": {
    "colab": {
      "name": "Untitled13.ipynb",
      "provenance": [],
      "collapsed_sections": []
    },
    "kernelspec": {
      "name": "python3",
      "display_name": "Python 3"
    },
    "accelerator": "GPU"
  },
  "cells": [
    {
      "cell_type": "code",
      "metadata": {
        "id": "nVI93cuX4NAN",
        "colab_type": "code",
        "colab": {}
      },
      "source": [
        "!pip install split_folders"
      ],
      "execution_count": 0,
      "outputs": []
    },
    {
      "cell_type": "code",
      "metadata": {
        "id": "jcdA64M_4luU",
        "colab_type": "code",
        "colab": {}
      },
      "source": [
        "import split_folders\n",
        "\n",
        "from tensorflow.keras.applications.vgg16 import VGG16\n",
        "from tensorflow.keras.applications.vgg16 import preprocess_input\n",
        "from tensorflow.keras.models import Model, Sequential\n",
        "from tensorflow.keras.preprocessing.image import ImageDataGenerator\n",
        "from tensorflow.keras.optimizers import Adam\n",
        "from tensorflow.keras.layers import Dense, Conv2D, MaxPool2D , Flatten\n",
        "from tensorflow.keras.losses import categorical_crossentropy\n",
        "from tensorflow.keras.callbacks import ModelCheckpoint, EarlyStopping\n",
        "from tensorflow.keras import metrics\n",
        "\n",
        "from sklearn.utils import class_weight\n",
        "from collections import Counter\n",
        "\n",
        "import matplotlib.pyplot as plt\n",
        "\n",
        "import os\n",
        "from os import listdir\n",
        "from os.path import isfile, join"
      ],
      "execution_count": 0,
      "outputs": []
    },
    {
      "cell_type": "code",
      "metadata": {
        "id": "d9uwlIapliQD",
        "colab_type": "code",
        "outputId": "bcaf33ec-3a2d-4ec6-a487-9ac77bd967d3",
        "colab": {
          "base_uri": "https://localhost:8080/",
          "height": 34
        }
      },
      "source": [
        "cd /content/drive/My Drive/Dataset/gaussian_filtered_images"
      ],
      "execution_count": 97,
      "outputs": [
        {
          "output_type": "stream",
          "text": [
            "/content/drive/My Drive/Dataset/gaussian_filtered_images\n"
          ],
          "name": "stdout"
        }
      ]
    },
    {
      "cell_type": "code",
      "metadata": {
        "id": "fw1kYaH2lSuw",
        "colab_type": "code",
        "colab": {}
      },
      "source": [
        "os.makedirs('output')\n",
        "os.makedirs('output/train')\n",
        "os.makedirs('output/val')\n"
      ],
      "execution_count": 0,
      "outputs": []
    },
    {
      "cell_type": "code",
      "metadata": {
        "id": "uCeggcl1zMLI",
        "colab_type": "code",
        "outputId": "8e1cda53-9579-4d39-ba00-dc482875309c",
        "colab": {
          "base_uri": "https://localhost:8080/",
          "height": 34
        }
      },
      "source": [
        "!ls output"
      ],
      "execution_count": 98,
      "outputs": [
        {
          "output_type": "stream",
          "text": [
            "train  val\n"
          ],
          "name": "stdout"
        }
      ]
    },
    {
      "cell_type": "code",
      "metadata": {
        "id": "uVruS-J3mw9b",
        "colab_type": "code",
        "outputId": "dd804fe1-488d-439a-e7aa-ac8813ae1660",
        "colab": {
          "base_uri": "https://localhost:8080/",
          "height": 1000
        }
      },
      "source": [
        "base_dir=\"/content/drive/My Drive/Dataset/gaussian_filtered_images\"\n",
        "split_folders.ratio(base_dir, output='output', seed=1, ratio=(0.8, 0.2))"
      ],
      "execution_count": 0,
      "outputs": [
        {
          "output_type": "stream",
          "text": [
            "\n",
            "Copying files: 0 files [00:00, ? files/s]\u001b[A\n",
            "Copying files: 1 files [00:00,  5.09 files/s]\u001b[A\n",
            "Copying files: 15 files [00:00,  7.16 files/s]\u001b[A\n",
            "Copying files: 32 files [00:00, 10.05 files/s]\u001b[A\n",
            "Copying files: 49 files [00:00, 13.99 files/s]\u001b[A\n",
            "Copying files: 69 files [00:00, 19.38 files/s]\u001b[A\n",
            "Copying files: 83 files [00:00, 25.20 files/s]\u001b[A\n",
            "Copying files: 100 files [00:00, 33.83 files/s]\u001b[A\n",
            "Copying files: 118 files [00:00, 44.67 files/s]\u001b[A\n",
            "Copying files: 134 files [00:01, 56.78 files/s]\u001b[A\n",
            "Copying files: 150 files [00:01, 70.18 files/s]\u001b[A\n",
            "Copying files: 169 files [00:01, 86.01 files/s]\u001b[A\n",
            "Copying files: 187 files [00:01, 101.13 files/s]\u001b[A\n",
            "Copying files: 204 files [00:01, 112.11 files/s]\u001b[A\n",
            "Copying files: 220 files [00:01, 122.32 files/s]\u001b[A\n",
            "Copying files: 237 files [00:01, 131.73 files/s]\u001b[A\n",
            "Copying files: 254 files [00:01, 140.57 files/s]\u001b[A\n",
            "Copying files: 272 files [00:01, 149.83 files/s]\u001b[A\n",
            "Copying files: 289 files [00:02, 151.17 files/s]\u001b[A\n",
            "Copying files: 306 files [00:02, 155.41 files/s]\u001b[A\n",
            "Copying files: 323 files [00:02, 159.44 files/s]\u001b[A\n",
            "Copying files: 340 files [00:02, 149.66 files/s]\u001b[A\n",
            "Copying files: 356 files [00:02, 147.94 files/s]\u001b[A\n",
            "Copying files: 374 files [00:02, 151.77 files/s]\u001b[A\n",
            "Copying files: 390 files [00:02, 151.47 files/s]\u001b[A\n",
            "Copying files: 406 files [00:02, 153.66 files/s]\u001b[A\n",
            "Copying files: 424 files [00:02, 157.97 files/s]\u001b[A\n",
            "Copying files: 440 files [00:03, 151.25 files/s]\u001b[A\n",
            "Copying files: 456 files [00:03, 152.08 files/s]\u001b[A\n",
            "Copying files: 473 files [00:03, 155.82 files/s]\u001b[A\n",
            "Copying files: 490 files [00:03, 157.75 files/s]\u001b[A\n",
            "Copying files: 506 files [00:03, 157.05 files/s]\u001b[A\n",
            "Copying files: 522 files [00:03, 156.47 files/s]\u001b[A\n",
            "Copying files: 539 files [00:03, 158.40 files/s]\u001b[A\n",
            "Copying files: 555 files [00:03, 157.49 files/s]\u001b[A\n",
            "Copying files: 571 files [00:03, 156.63 files/s]\u001b[A\n",
            "Copying files: 587 files [00:03, 152.21 files/s]\u001b[A\n",
            "Copying files: 603 files [00:04, 142.54 files/s]\u001b[A\n",
            "Copying files: 618 files [00:04, 140.79 files/s]\u001b[A\n",
            "Copying files: 633 files [00:04, 126.34 files/s]\u001b[A\n",
            "Copying files: 648 files [00:04, 130.97 files/s]\u001b[A\n",
            "Copying files: 662 files [00:04, 132.82 files/s]\u001b[A\n",
            "Copying files: 678 files [00:04, 137.86 files/s]\u001b[A\n",
            "Copying files: 693 files [00:04, 139.63 files/s]\u001b[A\n",
            "Copying files: 709 files [00:04, 144.29 files/s]\u001b[A\n",
            "Copying files: 724 files [00:04, 145.03 files/s]\u001b[A\n",
            "Copying files: 739 files [00:05, 146.48 files/s]\u001b[A\n",
            "Copying files: 754 files [00:05, 133.16 files/s]\u001b[A\n",
            "Copying files: 769 files [00:05, 135.46 files/s]\u001b[A\n",
            "Copying files: 785 files [00:05, 141.45 files/s]\u001b[A\n",
            "Copying files: 800 files [00:05, 130.04 files/s]\u001b[A\n",
            "Copying files: 816 files [00:05, 137.57 files/s]\u001b[A\n",
            "Copying files: 834 files [00:05, 146.54 files/s]\u001b[A\n",
            "Copying files: 850 files [00:05, 148.88 files/s]\u001b[A\n",
            "Copying files: 868 files [00:05, 155.84 files/s]\u001b[A\n",
            "Copying files: 884 files [00:06, 152.13 files/s]\u001b[A\n",
            "Copying files: 900 files [00:06, 96.49 files/s] \u001b[A\n",
            "Copying files: 916 files [00:06, 109.31 files/s]\u001b[A\n",
            "Copying files: 932 files [00:06, 119.54 files/s]\u001b[A\n",
            "Copying files: 946 files [00:06, 123.40 files/s]\u001b[A\n",
            "Copying files: 964 files [00:06, 134.35 files/s]\u001b[A\n",
            "Copying files: 979 files [00:06, 138.54 files/s]\u001b[A\n",
            "Copying files: 994 files [00:06, 140.93 files/s]\u001b[A\n",
            "Copying files: 1009 files [00:07, 127.36 files/s]\u001b[A\n",
            "Copying files: 1025 files [00:07, 133.50 files/s]\u001b[A\n",
            "Copying files: 1042 files [00:07, 142.65 files/s]\u001b[A\n",
            "Copying files: 1060 files [00:07, 150.76 files/s]\u001b[A\n",
            "Copying files: 1076 files [00:07, 150.26 files/s]\u001b[A\n",
            "Copying files: 1092 files [00:07, 152.29 files/s]\u001b[A\n",
            "Copying files: 1108 files [00:07, 153.65 files/s]\u001b[A\n",
            "Copying files: 1125 files [00:07, 158.01 files/s]\u001b[A\n",
            "Copying files: 1143 files [00:07, 162.47 files/s]\u001b[A\n",
            "Copying files: 1160 files [00:08, 160.94 files/s]\u001b[A\n",
            "Copying files: 1177 files [00:08, 156.81 files/s]\u001b[A\n",
            "Copying files: 1193 files [00:08, 145.29 files/s]\u001b[A\n",
            "Copying files: 1208 files [00:08, 136.58 files/s]\u001b[A\n",
            "Copying files: 1225 files [00:08, 142.94 files/s]\u001b[A\n",
            "Copying files: 1241 files [00:08, 144.20 files/s]\u001b[A\n",
            "Copying files: 1261 files [00:08, 155.25 files/s]\u001b[A\n",
            "Copying files: 1279 files [00:08, 161.57 files/s]\u001b[A\n",
            "Copying files: 1297 files [00:08, 164.37 files/s]\u001b[A\n",
            "Copying files: 1314 files [00:09, 163.94 files/s]\u001b[A\n",
            "Copying files: 1332 files [00:09, 167.49 files/s]\u001b[A\n",
            "Copying files: 1351 files [00:09, 173.04 files/s]\u001b[A\n",
            "Copying files: 1370 files [00:09, 120.49 files/s]\u001b[A\n",
            "Copying files: 1387 files [00:09, 131.14 files/s]\u001b[A\n",
            "Copying files: 1403 files [00:09, 138.44 files/s]\u001b[A\n",
            "Copying files: 1420 files [00:09, 146.35 files/s]\u001b[A\n",
            "Copying files: 1437 files [00:09, 152.03 files/s]\u001b[A\n",
            "Copying files: 1460 files [00:10, 168.31 files/s]\u001b[A\n",
            "Copying files: 1478 files [00:10, 164.33 files/s]\u001b[A\n",
            "Copying files: 1496 files [00:10, 145.06 files/s]\u001b[A\n",
            "Copying files: 1512 files [00:10, 141.23 files/s]\u001b[A\n",
            "Copying files: 1528 files [00:10, 144.43 files/s]\u001b[A\n",
            "Copying files: 1543 files [00:10, 144.66 files/s]\u001b[A\n",
            "Copying files: 1558 files [00:10, 139.16 files/s]\u001b[A\n",
            "Copying files: 1574 files [00:10, 143.82 files/s]\u001b[A\n",
            "Copying files: 1592 files [00:10, 152.86 files/s]\u001b[A\n",
            "Copying files: 1608 files [00:11, 152.33 files/s]\u001b[A\n",
            "Copying files: 1625 files [00:11, 154.49 files/s]\u001b[A\n",
            "Copying files: 1641 files [00:11, 153.46 files/s]\u001b[A\n",
            "Copying files: 1657 files [00:11, 154.89 files/s]\u001b[A\n",
            "Copying files: 1673 files [00:11, 152.09 files/s]\u001b[A\n",
            "Copying files: 1689 files [00:11, 152.22 files/s]\u001b[A\n",
            "Copying files: 1705 files [00:11, 147.42 files/s]\u001b[A\n",
            "Copying files: 1720 files [00:11, 145.42 files/s]\u001b[A\n",
            "Copying files: 1737 files [00:11, 149.87 files/s]\u001b[A\n",
            "Copying files: 1754 files [00:12, 153.26 files/s]\u001b[A\n",
            "Copying files: 1770 files [00:12, 138.99 files/s]\u001b[A\n",
            "Copying files: 1785 files [00:12, 132.86 files/s]\u001b[A\n",
            "Copying files: 1799 files [00:12, 131.99 files/s]\u001b[A\n",
            "Copying files: 1815 files [00:12, 138.69 files/s]\u001b[A\n",
            "Copying files: 1830 files [00:12, 140.14 files/s]\u001b[A\n",
            "Copying files: 1846 files [00:12, 144.30 files/s]\u001b[A\n",
            "Copying files: 1861 files [00:12, 144.16 files/s]\u001b[A\n",
            "Copying files: 1877 files [00:12, 148.01 files/s]\u001b[A\n",
            "Copying files: 1893 files [00:13, 150.03 files/s]\u001b[A\n",
            "Copying files: 1909 files [00:13, 152.37 files/s]\u001b[A\n",
            "Copying files: 1925 files [00:13, 145.32 files/s]\u001b[A\n",
            "Copying files: 1940 files [00:13, 145.77 files/s]\u001b[A\n",
            "Copying files: 1955 files [00:13, 145.54 files/s]\u001b[A\n",
            "Copying files: 1970 files [00:13, 139.79 files/s]\u001b[A\n",
            "Copying files: 1985 files [00:13, 137.15 files/s]\u001b[A\n",
            "Copying files: 1999 files [00:13, 134.90 files/s]\u001b[A\n",
            "Copying files: 2015 files [00:13, 140.72 files/s]\u001b[A\n",
            "Copying files: 2030 files [00:13, 142.75 files/s]\u001b[A\n",
            "Copying files: 2045 files [00:14, 141.28 files/s]\u001b[A\n",
            "Copying files: 2060 files [00:14, 140.48 files/s]\u001b[A\n",
            "Copying files: 2075 files [00:14, 127.72 files/s]\u001b[A\n",
            "Copying files: 2089 files [00:14, 130.47 files/s]\u001b[A\n",
            "Copying files: 2103 files [00:14, 129.32 files/s]\u001b[A\n",
            "Copying files: 2117 files [00:14, 126.34 files/s]\u001b[A\n",
            "Copying files: 2130 files [00:14, 121.82 files/s]\u001b[A\n",
            "Copying files: 2145 files [00:14, 127.13 files/s]\u001b[A\n",
            "Copying files: 2159 files [00:15, 130.45 files/s]\u001b[A\n",
            "Copying files: 2174 files [00:15, 135.35 files/s]\u001b[A\n",
            "Copying files: 2190 files [00:15, 141.62 files/s]\u001b[A\n",
            "Copying files: 2205 files [00:15, 140.71 files/s]\u001b[A\n",
            "Copying files: 2220 files [00:15, 141.57 files/s]\u001b[A\n",
            "Copying files: 2235 files [00:15, 136.29 files/s]\u001b[A\n",
            "Copying files: 2249 files [00:15, 132.28 files/s]\u001b[A\n",
            "Copying files: 2263 files [00:15, 125.58 files/s]\u001b[A\n",
            "Copying files: 2277 files [00:15, 129.34 files/s]\u001b[A\n",
            "Copying files: 2291 files [00:15, 130.68 files/s]\u001b[A\n",
            "Copying files: 2306 files [00:16, 134.12 files/s]\u001b[A\n",
            "Copying files: 2320 files [00:16, 134.38 files/s]\u001b[A\n",
            "Copying files: 2334 files [00:16, 127.69 files/s]\u001b[A\n",
            "Copying files: 2347 files [00:16, 125.26 files/s]\u001b[A\n",
            "Copying files: 2360 files [00:16, 123.38 files/s]\u001b[A\n",
            "Copying files: 2373 files [00:16, 119.22 files/s]\u001b[A\n",
            "Copying files: 2388 files [00:16, 126.60 files/s]\u001b[A\n",
            "Copying files: 2402 files [00:16, 129.76 files/s]\u001b[A\n",
            "Copying files: 2416 files [00:16, 131.57 files/s]\u001b[A\n",
            "Copying files: 2430 files [00:17, 131.92 files/s]\u001b[A\n",
            "Copying files: 2444 files [00:17, 133.77 files/s]\u001b[A\n",
            "Copying files: 2458 files [00:17, 130.75 files/s]\u001b[A\n",
            "Copying files: 2472 files [00:17, 127.20 files/s]\u001b[A\n",
            "Copying files: 2487 files [00:17, 130.97 files/s]\u001b[A\n",
            "Copying files: 2502 files [00:17, 133.82 files/s]\u001b[A\n",
            "Copying files: 2516 files [00:17, 131.20 files/s]\u001b[A\n",
            "Copying files: 2532 files [00:17, 137.64 files/s]\u001b[A\n",
            "Copying files: 2546 files [00:17, 128.16 files/s]\u001b[A\n",
            "Copying files: 2560 files [00:18, 129.10 files/s]\u001b[A\n",
            "Copying files: 2574 files [00:18, 130.36 files/s]\u001b[A\n",
            "Copying files: 2588 files [00:18, 124.52 files/s]\u001b[A\n",
            "Copying files: 2601 files [00:18, 122.45 files/s]\u001b[A\n",
            "Copying files: 2616 files [00:18, 128.94 files/s]\u001b[A\n",
            "Copying files: 2630 files [00:18, 131.26 files/s]\u001b[A\n",
            "Copying files: 2644 files [00:18, 128.39 files/s]\u001b[A\n",
            "Copying files: 2657 files [00:18, 127.66 files/s]\u001b[A\n",
            "Copying files: 2671 files [00:18, 130.80 files/s]\u001b[A\n",
            "Copying files: 2686 files [00:19, 135.54 files/s]\u001b[A\n",
            "Copying files: 2702 files [00:19, 139.87 files/s]\u001b[A\n",
            "Copying files: 2717 files [00:19, 139.19 files/s]\u001b[A\n",
            "Copying files: 2731 files [00:19, 138.53 files/s]\u001b[A\n",
            "Copying files: 2746 files [00:19, 141.57 files/s]\u001b[A\n",
            "Copying files: 2762 files [00:19, 144.87 files/s]\u001b[A\n",
            "Copying files: 2777 files [00:19, 136.53 files/s]\u001b[A\n",
            "Copying files: 2792 files [00:19, 138.00 files/s]\u001b[A\n",
            "Copying files: 2807 files [00:19, 140.00 files/s]\u001b[A\n",
            "Copying files: 2822 files [00:20, 133.81 files/s]\u001b[A\n",
            "Copying files: 2840 files [00:20, 144.38 files/s]\u001b[A\n",
            "Copying files: 2858 files [00:20, 151.65 files/s]\u001b[A\n",
            "Copying files: 2874 files [00:20, 120.89 files/s]\u001b[A\n",
            "Copying files: 2888 files [00:20, 115.17 files/s]\u001b[A\n",
            "Copying files: 2901 files [00:20, 115.71 files/s]\u001b[A\n",
            "Copying files: 2914 files [00:20, 119.41 files/s]\u001b[A\n",
            "Copying files: 2929 files [00:20, 126.42 files/s]\u001b[A\n",
            "Copying files: 2943 files [00:20, 125.34 files/s]\u001b[A\n",
            "Copying files: 2958 files [00:21, 128.75 files/s]\u001b[A\n",
            "Copying files: 2974 files [00:21, 136.55 files/s]\u001b[A\n",
            "Copying files: 2989 files [00:21, 140.27 files/s]\u001b[A\n",
            "Copying files: 3007 files [00:21, 148.14 files/s]\u001b[A\n",
            "Copying files: 3023 files [00:21, 146.78 files/s]\u001b[A\n",
            "Copying files: 3038 files [00:21, 146.94 files/s]\u001b[A\n",
            "Copying files: 3054 files [00:21, 149.93 files/s]\u001b[A\n",
            "Copying files: 3070 files [00:21, 151.72 files/s]\u001b[A\n",
            "Copying files: 3087 files [00:21, 155.04 files/s]\u001b[A\n",
            "Copying files: 3103 files [00:22, 150.15 files/s]\u001b[A\n",
            "Copying files: 3119 files [00:22, 146.97 files/s]\u001b[A\n",
            "Copying files: 3134 files [00:22, 145.23 files/s]\u001b[A\n",
            "Copying files: 3149 files [00:22, 138.85 files/s]\u001b[A\n",
            "Copying files: 3165 files [00:22, 143.43 files/s]\u001b[A\n",
            "Copying files: 3180 files [00:22, 136.06 files/s]\u001b[A\n",
            "Copying files: 3197 files [00:22, 144.44 files/s]\u001b[A\n",
            "Copying files: 3213 files [00:22, 148.05 files/s]\u001b[A\n",
            "Copying files: 3230 files [00:22, 153.48 files/s]\u001b[A\n",
            "Copying files: 3248 files [00:22, 160.14 files/s]\u001b[A\n",
            "Copying files: 3266 files [00:23, 163.56 files/s]\u001b[A\n",
            "Copying files: 3284 files [00:23, 165.94 files/s]\u001b[A\n",
            "Copying files: 3302 files [00:23, 167.71 files/s]\u001b[A\n",
            "Copying files: 3319 files [00:23, 166.37 files/s]\u001b[A\n",
            "Copying files: 3336 files [00:23, 164.01 files/s]\u001b[A\n",
            "Copying files: 3354 files [00:23, 166.55 files/s]\u001b[A\n",
            "Copying files: 3371 files [00:23, 152.13 files/s]\u001b[A\n",
            "Copying files: 3387 files [00:23, 151.98 files/s]\u001b[A\n",
            "Copying files: 3404 files [00:23, 156.02 files/s]\u001b[A\n",
            "Copying files: 3422 files [00:24, 161.61 files/s]\u001b[A\n",
            "Copying files: 3440 files [00:24, 165.28 files/s]\u001b[A\n",
            "Copying files: 3457 files [00:24, 159.43 files/s]\u001b[A\n",
            "Copying files: 3474 files [00:24, 154.91 files/s]\u001b[A\n",
            "Copying files: 3491 files [00:24, 158.81 files/s]\u001b[A\n",
            "Copying files: 3507 files [00:24, 157.10 files/s]\u001b[A\n",
            "Copying files: 3525 files [00:24, 161.33 files/s]\u001b[A\n",
            "Copying files: 3543 files [00:24, 164.85 files/s]\u001b[A\n",
            "Copying files: 3560 files [00:24, 160.36 files/s]\u001b[A\n",
            "Copying files: 3578 files [00:25, 163.73 files/s]\u001b[A\n",
            "Copying files: 3595 files [00:25, 163.07 files/s]\u001b[A\n",
            "Copying files: 3614 files [00:25, 167.87 files/s]\u001b[A\n",
            "Copying files: 3632 files [00:25, 168.59 files/s]\u001b[A\n",
            "Copying files: 3662 files [00:25, 143.51 files/s]\n"
          ],
          "name": "stderr"
        }
      ]
    },
    {
      "cell_type": "code",
      "metadata": {
        "id": "z4NS5g5R4MvJ",
        "colab_type": "code",
        "colab": {}
      },
      "source": [
        "train_data_loc='output/train/'\n",
        "test_data_loc='output/val/'"
      ],
      "execution_count": 0,
      "outputs": []
    },
    {
      "cell_type": "code",
      "metadata": {
        "id": "xia0zGoe7gBU",
        "colab_type": "code",
        "outputId": "2d01e078-587b-4f16-b443-ecfd0c127e23",
        "colab": {
          "base_uri": "https://localhost:8080/",
          "height": 51
        }
      },
      "source": [
        "train_it=ImageDataGenerator()\n",
        "train_data=train_it.flow_from_directory(directory=train_data_loc, target_size=(224,224))\n",
        "test_it=ImageDataGenerator()\n",
        "test_data=test_it.flow_from_directory(directory=test_data_loc, target_size=(224,224))"
      ],
      "execution_count": 100,
      "outputs": [
        {
          "output_type": "stream",
          "text": [
            "Found 2929 images belonging to 5 classes.\n",
            "Found 733 images belonging to 5 classes.\n"
          ],
          "name": "stdout"
        }
      ]
    },
    {
      "cell_type": "code",
      "metadata": {
        "id": "-0aAAdd7RgMX",
        "colab_type": "code",
        "colab": {}
      },
      "source": [
        "import tensorflow as tf\n"
      ],
      "execution_count": 0,
      "outputs": []
    },
    {
      "cell_type": "code",
      "metadata": {
        "id": "5Q_fNFsSQw0k",
        "colab_type": "code",
        "colab": {}
      },
      "source": [
        "model=tf.keras.models.Sequential([\n",
        "                                  tf.keras.layers.Conv2D(16,(3,3),activation='relu',input_shape=(224,224,3)),\n",
        "                                  tf.keras.layers.MaxPooling2D(2,2),\n",
        "                                  tf.keras.layers.Conv2D(32,(3,3),activation='relu'),\n",
        "                                  tf.keras.layers.MaxPooling2D(2,2),\n",
        "                                  tf.keras.layers.Conv2D(64,(3,3),activation='relu'),\n",
        "                                  tf.keras.layers.MaxPooling2D(2,2),\n",
        "                                  tf.keras.layers.Conv2D(64,(3,3),activation='relu'),\n",
        "                                  tf.keras.layers.MaxPooling2D(2,2),\n",
        "                                  tf.keras.layers.Conv2D(64,(3,3),activation='relu'),\n",
        "                                  tf.keras.layers.MaxPooling2D(2,2),\n",
        "                                  tf.keras.layers.Flatten(),\n",
        "                                  tf.keras.layers.Dense(512,activation='relu'),\n",
        "                                  tf.keras.layers.Dense(5,activation='softmax')\n",
        "\n",
        "                                                            \n",
        "                                  \n",
        "])"
      ],
      "execution_count": 0,
      "outputs": []
    },
    {
      "cell_type": "code",
      "metadata": {
        "id": "4cKlS_Lut9Jl",
        "colab_type": "code",
        "outputId": "50dc3f82-a60b-4ea5-89b6-b36f82731da1",
        "colab": {
          "base_uri": "https://localhost:8080/",
          "height": 527
        }
      },
      "source": [
        "model.summary()"
      ],
      "execution_count": 103,
      "outputs": [
        {
          "output_type": "stream",
          "text": [
            "Model: \"sequential_12\"\n",
            "_________________________________________________________________\n",
            "Layer (type)                 Output Shape              Param #   \n",
            "=================================================================\n",
            "conv2d_51 (Conv2D)           (None, 222, 222, 16)      448       \n",
            "_________________________________________________________________\n",
            "max_pooling2d_51 (MaxPooling (None, 111, 111, 16)      0         \n",
            "_________________________________________________________________\n",
            "conv2d_52 (Conv2D)           (None, 109, 109, 32)      4640      \n",
            "_________________________________________________________________\n",
            "max_pooling2d_52 (MaxPooling (None, 54, 54, 32)        0         \n",
            "_________________________________________________________________\n",
            "conv2d_53 (Conv2D)           (None, 52, 52, 64)        18496     \n",
            "_________________________________________________________________\n",
            "max_pooling2d_53 (MaxPooling (None, 26, 26, 64)        0         \n",
            "_________________________________________________________________\n",
            "conv2d_54 (Conv2D)           (None, 24, 24, 64)        36928     \n",
            "_________________________________________________________________\n",
            "max_pooling2d_54 (MaxPooling (None, 12, 12, 64)        0         \n",
            "_________________________________________________________________\n",
            "flatten_12 (Flatten)         (None, 9216)              0         \n",
            "_________________________________________________________________\n",
            "dense_24 (Dense)             (None, 512)               4719104   \n",
            "_________________________________________________________________\n",
            "dense_25 (Dense)             (None, 5)                 2565      \n",
            "=================================================================\n",
            "Total params: 4,782,181\n",
            "Trainable params: 4,782,181\n",
            "Non-trainable params: 0\n",
            "_________________________________________________________________\n"
          ],
          "name": "stdout"
        }
      ]
    },
    {
      "cell_type": "code",
      "metadata": {
        "id": "5snoLNdHurG5",
        "colab_type": "code",
        "colab": {}
      },
      "source": [
        "from tensorflow.keras.optimizers import RMSprop\n",
        "model.compile(loss='categorical_crossentropy',\n",
        "              optimizer='adam',\n",
        "              metrics=['accuracy'])\n",
        "#train_data.samples\n",
        "#train_data.batch_size"
      ],
      "execution_count": 0,
      "outputs": []
    },
    {
      "cell_type": "code",
      "metadata": {
        "id": "rgo3oPtTvYZo",
        "colab_type": "code",
        "outputId": "630fa083-22cf-4707-e0c8-36939db9d931",
        "colab": {
          "base_uri": "https://localhost:8080/",
          "height": 697
        }
      },
      "source": [
        "history=model.fit(\n",
        "    train_data,\n",
        "    steps_per_epoch=train_data.samples//train_data.batch_size,\n",
        "    validation_data=test_data,\n",
        "    validation_steps=test_data.samples//test_data.batch_size,\n",
        "    epochs=20\n",
        "    \n",
        ")"
      ],
      "execution_count": 112,
      "outputs": [
        {
          "output_type": "stream",
          "text": [
            "Epoch 1/20\n",
            "91/91 [==============================] - 12s 127ms/step - loss: 3.6753 - accuracy: 0.5923 - val_loss: 0.8842 - val_accuracy: 0.7031\n",
            "Epoch 2/20\n",
            "91/91 [==============================] - 11s 124ms/step - loss: 0.8186 - accuracy: 0.6959 - val_loss: 0.8099 - val_accuracy: 0.7131\n",
            "Epoch 3/20\n",
            "91/91 [==============================] - 11s 123ms/step - loss: 0.7672 - accuracy: 0.7242 - val_loss: 0.8474 - val_accuracy: 0.7301\n",
            "Epoch 4/20\n",
            "91/91 [==============================] - 12s 127ms/step - loss: 0.7320 - accuracy: 0.7384 - val_loss: 0.7796 - val_accuracy: 0.7102\n",
            "Epoch 5/20\n",
            "91/91 [==============================] - 12s 127ms/step - loss: 0.7027 - accuracy: 0.7473 - val_loss: 0.7799 - val_accuracy: 0.7330\n",
            "Epoch 6/20\n",
            "91/91 [==============================] - 11s 123ms/step - loss: 0.6618 - accuracy: 0.7511 - val_loss: 0.7706 - val_accuracy: 0.7287\n",
            "Epoch 7/20\n",
            "91/91 [==============================] - 11s 125ms/step - loss: 0.6338 - accuracy: 0.7684 - val_loss: 0.8000 - val_accuracy: 0.7202\n",
            "Epoch 8/20\n",
            "91/91 [==============================] - 11s 126ms/step - loss: 0.6006 - accuracy: 0.7774 - val_loss: 0.8059 - val_accuracy: 0.7074\n",
            "Epoch 9/20\n",
            "91/91 [==============================] - 11s 125ms/step - loss: 0.5702 - accuracy: 0.7870 - val_loss: 0.7489 - val_accuracy: 0.7330\n",
            "Epoch 10/20\n",
            "91/91 [==============================] - 11s 123ms/step - loss: 0.5139 - accuracy: 0.8088 - val_loss: 0.7873 - val_accuracy: 0.7301\n",
            "Epoch 11/20\n",
            "91/91 [==============================] - 11s 123ms/step - loss: 0.4920 - accuracy: 0.8098 - val_loss: 0.8218 - val_accuracy: 0.7301\n",
            "Epoch 12/20\n",
            "91/91 [==============================] - 11s 123ms/step - loss: 0.4452 - accuracy: 0.8291 - val_loss: 0.8525 - val_accuracy: 0.7358\n",
            "Epoch 13/20\n",
            "91/91 [==============================] - 11s 123ms/step - loss: 0.4091 - accuracy: 0.8464 - val_loss: 0.9671 - val_accuracy: 0.7358\n",
            "Epoch 14/20\n",
            "91/91 [==============================] - 11s 124ms/step - loss: 0.3777 - accuracy: 0.8661 - val_loss: 1.0124 - val_accuracy: 0.7315\n",
            "Epoch 15/20\n",
            "91/91 [==============================] - 11s 125ms/step - loss: 0.3396 - accuracy: 0.8802 - val_loss: 0.9600 - val_accuracy: 0.7088\n",
            "Epoch 16/20\n",
            "91/91 [==============================] - 11s 123ms/step - loss: 0.3178 - accuracy: 0.8913 - val_loss: 1.0820 - val_accuracy: 0.7202\n",
            "Epoch 17/20\n",
            "91/91 [==============================] - 12s 127ms/step - loss: 0.2929 - accuracy: 0.8970 - val_loss: 0.9904 - val_accuracy: 0.7514\n",
            "Epoch 18/20\n",
            "91/91 [==============================] - 11s 125ms/step - loss: 0.2725 - accuracy: 0.9030 - val_loss: 1.1428 - val_accuracy: 0.7330\n",
            "Epoch 19/20\n",
            "91/91 [==============================] - 11s 125ms/step - loss: 0.2522 - accuracy: 0.9137 - val_loss: 1.2402 - val_accuracy: 0.7131\n",
            "Epoch 20/20\n",
            "91/91 [==============================] - 11s 126ms/step - loss: 0.2265 - accuracy: 0.9223 - val_loss: 1.3056 - val_accuracy: 0.7287\n"
          ],
          "name": "stdout"
        }
      ]
    },
    {
      "cell_type": "code",
      "metadata": {
        "id": "c8DwST_X9MtK",
        "colab_type": "code",
        "outputId": "14ac029a-0ba1-450c-a3b5-da94c3a82389",
        "colab": {
          "base_uri": "https://localhost:8080/",
          "height": 300
        }
      },
      "source": [
        "plt.plot(history.history['accuracy'], label='accuracy')\n",
        "plt.plot(history.history['val_accuracy'], label='val_accuracy')\n",
        "plt.xlabel('Epoch')\n",
        "plt.ylabel('Accuracy')\n",
        "plt.ylim([0.5,1])\n",
        "plt.legend(loc='lower right')\n",
        "\n"
      ],
      "execution_count": 113,
      "outputs": [
        {
          "output_type": "execute_result",
          "data": {
            "text/plain": [
              "<matplotlib.legend.Legend at 0x7f78e417af60>"
            ]
          },
          "metadata": {
            "tags": []
          },
          "execution_count": 113
        },
        {
          "output_type": "display_data",
          "data": {
            "image/png": "[encoded data removed]",
            "text/plain": [
              "<Figure size 432x288 with 1 Axes>"
            ]
          },
          "metadata": {
            "tags": []
          }
        }
      ]
    }
  ]
}
